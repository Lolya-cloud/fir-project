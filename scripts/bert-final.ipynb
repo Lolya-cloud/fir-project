{
 "cells": [
  {
   "cell_type": "code",
   "execution_count": 38,
   "metadata": {},
   "outputs": [
    {
     "name": "stderr",
     "output_type": "stream",
     "text": [
      "[nltk_data] Downloading package stopwords to\n",
      "[nltk_data]     C:\\Users\\vitaf\\AppData\\Roaming\\nltk_data...\n",
      "[nltk_data]   Package stopwords is already up-to-date!\n"
     ]
    }
   ],
   "source": [
    "import pandas as pd\n",
    "import numpy as np\n",
    "import re\n",
    "import nltk\n",
    "from tqdm import tqdm\n",
    "from nltk.corpus import stopwords\n",
    "from transformers import BertTokenizer, BertModel\n",
    "import torch\n",
    "from sklearn.metrics.pairwise import cosine_similarity\n",
    "from sklearn.feature_extraction.text import TfidfVectorizer\n",
    "from collections import defaultdict\n",
    "\n",
    "nltk.download(\"stopwords\")\n",
    "stop_words = set(stopwords.words(\"english\"))\n",
    "tqdm.pandas()"
   ]
  },
  {
   "cell_type": "code",
   "execution_count": 39,
   "metadata": {},
   "outputs": [],
   "source": [
    "df = pd.read_json(\"../data/trec-medline.json\", lines=True)"
   ]
  },
  {
   "cell_type": "code",
   "execution_count": 40,
   "metadata": {},
   "outputs": [
    {
     "data": {
      "text/html": [
       "<div>\n",
       "<style scoped>\n",
       "    .dataframe tbody tr th:only-of-type {\n",
       "        vertical-align: middle;\n",
       "    }\n",
       "\n",
       "    .dataframe tbody tr th {\n",
       "        vertical-align: top;\n",
       "    }\n",
       "\n",
       "    .dataframe thead th {\n",
       "        text-align: right;\n",
       "    }\n",
       "</style>\n",
       "<table border=\"1\" class=\"dataframe\">\n",
       "  <thead>\n",
       "    <tr style=\"text-align: right;\">\n",
       "      <th></th>\n",
       "      <th>index</th>\n",
       "      <th>AB</th>\n",
       "      <th>AD</th>\n",
       "      <th>CY</th>\n",
       "      <th>DA</th>\n",
       "      <th>DCOM</th>\n",
       "      <th>DP</th>\n",
       "      <th>EDAT</th>\n",
       "      <th>ID</th>\n",
       "      <th>IP</th>\n",
       "      <th>...</th>\n",
       "      <th>CON</th>\n",
       "      <th>CIN</th>\n",
       "      <th>RPF</th>\n",
       "      <th>RPI</th>\n",
       "      <th>SPIN</th>\n",
       "      <th>RIN</th>\n",
       "      <th>ROF</th>\n",
       "      <th>ORI</th>\n",
       "      <th>UOF</th>\n",
       "      <th>UIN</th>\n",
       "    </tr>\n",
       "  </thead>\n",
       "  <tbody>\n",
       "    <tr>\n",
       "      <th>0</th>\n",
       "      <td>1</td>\n",
       "      <td>We present an evaluation of the accuracy and p...</td>\n",
       "      <td>Department of Molecular Biology and Skaggs Ins...</td>\n",
       "      <td>Netherlands</td>\n",
       "      <td>20011105.0</td>\n",
       "      <td>20020401.0</td>\n",
       "      <td>2001 Sep</td>\n",
       "      <td>2001/11/06 10:00</td>\n",
       "      <td>GM56879/GM/NIGMS</td>\n",
       "      <td>1</td>\n",
       "      <td>...</td>\n",
       "      <td>NaN</td>\n",
       "      <td>NaN</td>\n",
       "      <td>NaN</td>\n",
       "      <td>NaN</td>\n",
       "      <td>NaN</td>\n",
       "      <td>NaN</td>\n",
       "      <td>NaN</td>\n",
       "      <td>NaN</td>\n",
       "      <td>NaN</td>\n",
       "      <td>NaN</td>\n",
       "    </tr>\n",
       "    <tr>\n",
       "      <th>1</th>\n",
       "      <td>2</td>\n",
       "      <td>An analysis is presented of experimental versu...</td>\n",
       "      <td>Department of Medical Biosciences, Medical Bio...</td>\n",
       "      <td>Netherlands</td>\n",
       "      <td>20011105.0</td>\n",
       "      <td>20020401.0</td>\n",
       "      <td>2001 Sep</td>\n",
       "      <td>2001/11/06 10:00</td>\n",
       "      <td>NaN</td>\n",
       "      <td>1</td>\n",
       "      <td>...</td>\n",
       "      <td>NaN</td>\n",
       "      <td>NaN</td>\n",
       "      <td>NaN</td>\n",
       "      <td>NaN</td>\n",
       "      <td>NaN</td>\n",
       "      <td>NaN</td>\n",
       "      <td>NaN</td>\n",
       "      <td>NaN</td>\n",
       "      <td>NaN</td>\n",
       "      <td>NaN</td>\n",
       "    </tr>\n",
       "    <tr>\n",
       "      <th>2</th>\n",
       "      <td>3</td>\n",
       "      <td>The global fold of maltose binding protein in ...</td>\n",
       "      <td>Protein Engineering Network Center of Excellen...</td>\n",
       "      <td>Netherlands</td>\n",
       "      <td>20011105.0</td>\n",
       "      <td>20020401.0</td>\n",
       "      <td>2001 Sep</td>\n",
       "      <td>2001/11/06 10:00</td>\n",
       "      <td>NaN</td>\n",
       "      <td>1</td>\n",
       "      <td>...</td>\n",
       "      <td>NaN</td>\n",
       "      <td>NaN</td>\n",
       "      <td>NaN</td>\n",
       "      <td>NaN</td>\n",
       "      <td>NaN</td>\n",
       "      <td>NaN</td>\n",
       "      <td>NaN</td>\n",
       "      <td>NaN</td>\n",
       "      <td>NaN</td>\n",
       "      <td>NaN</td>\n",
       "    </tr>\n",
       "    <tr>\n",
       "      <th>3</th>\n",
       "      <td>4</td>\n",
       "      <td>A general method is presented for magnetic fie...</td>\n",
       "      <td>Molecular Structure Division, National Institu...</td>\n",
       "      <td>Netherlands</td>\n",
       "      <td>20011105.0</td>\n",
       "      <td>20020401.0</td>\n",
       "      <td>2001 Sep</td>\n",
       "      <td>2001/11/06 10:00</td>\n",
       "      <td>NaN</td>\n",
       "      <td>1</td>\n",
       "      <td>...</td>\n",
       "      <td>NaN</td>\n",
       "      <td>NaN</td>\n",
       "      <td>NaN</td>\n",
       "      <td>NaN</td>\n",
       "      <td>NaN</td>\n",
       "      <td>NaN</td>\n",
       "      <td>NaN</td>\n",
       "      <td>NaN</td>\n",
       "      <td>NaN</td>\n",
       "      <td>NaN</td>\n",
       "    </tr>\n",
       "    <tr>\n",
       "      <th>4</th>\n",
       "      <td>5</td>\n",
       "      <td>The dependence between the anomeric carbon che...</td>\n",
       "      <td>Department of Chemistry &amp; Biochemistry, Univer...</td>\n",
       "      <td>Netherlands</td>\n",
       "      <td>20011105.0</td>\n",
       "      <td>20020401.0</td>\n",
       "      <td>2001 Sep</td>\n",
       "      <td>2001/11/06 10:00</td>\n",
       "      <td>NaN</td>\n",
       "      <td>1</td>\n",
       "      <td>...</td>\n",
       "      <td>NaN</td>\n",
       "      <td>NaN</td>\n",
       "      <td>NaN</td>\n",
       "      <td>NaN</td>\n",
       "      <td>NaN</td>\n",
       "      <td>NaN</td>\n",
       "      <td>NaN</td>\n",
       "      <td>NaN</td>\n",
       "      <td>NaN</td>\n",
       "      <td>NaN</td>\n",
       "    </tr>\n",
       "  </tbody>\n",
       "</table>\n",
       "<p>5 rows × 47 columns</p>\n",
       "</div>"
      ],
      "text/plain": [
       "   index                                                 AB  \\\n",
       "0      1  We present an evaluation of the accuracy and p...   \n",
       "1      2  An analysis is presented of experimental versu...   \n",
       "2      3  The global fold of maltose binding protein in ...   \n",
       "3      4  A general method is presented for magnetic fie...   \n",
       "4      5  The dependence between the anomeric carbon che...   \n",
       "\n",
       "                                                  AD           CY          DA  \\\n",
       "0  Department of Molecular Biology and Skaggs Ins...  Netherlands  20011105.0   \n",
       "1  Department of Medical Biosciences, Medical Bio...  Netherlands  20011105.0   \n",
       "2  Protein Engineering Network Center of Excellen...  Netherlands  20011105.0   \n",
       "3  Molecular Structure Division, National Institu...  Netherlands  20011105.0   \n",
       "4  Department of Chemistry & Biochemistry, Univer...  Netherlands  20011105.0   \n",
       "\n",
       "         DCOM        DP              EDAT                ID IP  ...  CON  CIN  \\\n",
       "0  20020401.0  2001 Sep  2001/11/06 10:00  GM56879/GM/NIGMS  1  ...  NaN  NaN   \n",
       "1  20020401.0  2001 Sep  2001/11/06 10:00               NaN  1  ...  NaN  NaN   \n",
       "2  20020401.0  2001 Sep  2001/11/06 10:00               NaN  1  ...  NaN  NaN   \n",
       "3  20020401.0  2001 Sep  2001/11/06 10:00               NaN  1  ...  NaN  NaN   \n",
       "4  20020401.0  2001 Sep  2001/11/06 10:00               NaN  1  ...  NaN  NaN   \n",
       "\n",
       "   RPF  RPI SPIN  RIN  ROF  ORI  UOF  UIN  \n",
       "0  NaN  NaN  NaN  NaN  NaN  NaN  NaN  NaN  \n",
       "1  NaN  NaN  NaN  NaN  NaN  NaN  NaN  NaN  \n",
       "2  NaN  NaN  NaN  NaN  NaN  NaN  NaN  NaN  \n",
       "3  NaN  NaN  NaN  NaN  NaN  NaN  NaN  NaN  \n",
       "4  NaN  NaN  NaN  NaN  NaN  NaN  NaN  NaN  \n",
       "\n",
       "[5 rows x 47 columns]"
      ]
     },
     "execution_count": 40,
     "metadata": {},
     "output_type": "execute_result"
    }
   ],
   "source": [
    "id_rows = df.iloc[::2].reset_index(drop=True)[[\"index\"]]\n",
    "id_rows[\"index\"] = id_rows[\"index\"].apply(lambda x: int(x[\"_id\"]))\n",
    "content_rows = df.iloc[1::2].reset_index(drop=True).drop(labels=[\"index\"], axis=1)\n",
    "combined_df = pd.concat([id_rows, content_rows], axis=1)\n",
    "\n",
    "combined_df.head()"
   ]
  },
  {
   "cell_type": "code",
   "execution_count": 41,
   "metadata": {},
   "outputs": [
    {
     "data": {
      "text/html": [
       "<div>\n",
       "<style scoped>\n",
       "    .dataframe tbody tr th:only-of-type {\n",
       "        vertical-align: middle;\n",
       "    }\n",
       "\n",
       "    .dataframe tbody tr th {\n",
       "        vertical-align: top;\n",
       "    }\n",
       "\n",
       "    .dataframe thead th {\n",
       "        text-align: right;\n",
       "    }\n",
       "</style>\n",
       "<table border=\"1\" class=\"dataframe\">\n",
       "  <thead>\n",
       "    <tr style=\"text-align: right;\">\n",
       "      <th></th>\n",
       "      <th>index</th>\n",
       "      <th>AB</th>\n",
       "      <th>PMID</th>\n",
       "    </tr>\n",
       "  </thead>\n",
       "  <tbody>\n",
       "    <tr>\n",
       "      <th>0</th>\n",
       "      <td>1</td>\n",
       "      <td>We present an evaluation of the accuracy and p...</td>\n",
       "      <td>11693564</td>\n",
       "    </tr>\n",
       "    <tr>\n",
       "      <th>1</th>\n",
       "      <td>2</td>\n",
       "      <td>An analysis is presented of experimental versu...</td>\n",
       "      <td>11693565</td>\n",
       "    </tr>\n",
       "    <tr>\n",
       "      <th>2</th>\n",
       "      <td>3</td>\n",
       "      <td>The global fold of maltose binding protein in ...</td>\n",
       "      <td>11693566</td>\n",
       "    </tr>\n",
       "    <tr>\n",
       "      <th>3</th>\n",
       "      <td>4</td>\n",
       "      <td>A general method is presented for magnetic fie...</td>\n",
       "      <td>11693567</td>\n",
       "    </tr>\n",
       "    <tr>\n",
       "      <th>4</th>\n",
       "      <td>5</td>\n",
       "      <td>The dependence between the anomeric carbon che...</td>\n",
       "      <td>11693568</td>\n",
       "    </tr>\n",
       "  </tbody>\n",
       "</table>\n",
       "</div>"
      ],
      "text/plain": [
       "   index                                                 AB      PMID\n",
       "0      1  We present an evaluation of the accuracy and p...  11693564\n",
       "1      2  An analysis is presented of experimental versu...  11693565\n",
       "2      3  The global fold of maltose binding protein in ...  11693566\n",
       "3      4  A general method is presented for magnetic fie...  11693567\n",
       "4      5  The dependence between the anomeric carbon che...  11693568"
      ]
     },
     "execution_count": 41,
     "metadata": {},
     "output_type": "execute_result"
    }
   ],
   "source": [
    "docs = combined_df[[\"index\", \"AB\", \"PMID\"]]\n",
    "docs = docs.astype({\"index\": int, \"PMID\": int})\n",
    "docs.head(5)"
   ]
  },
  {
   "cell_type": "code",
   "execution_count": 42,
   "metadata": {},
   "outputs": [
    {
     "name": "stdout",
     "output_type": "stream",
     "text": [
      "index    0\n",
      "query    0\n",
      "dtype: int64\n"
     ]
    }
   ],
   "source": [
    "# load queries\n",
    "queries = pd.DataFrame(columns=[\"index\", \"query\"])\n",
    "\n",
    "with open(\"../data/training-queries-simple.txt\", \"r\") as f:\n",
    "    lines = f.readlines()\n",
    "\n",
    "data = []\n",
    "for line in lines:\n",
    "    x = line.strip().split(\"\\t\")\n",
    "    if len(x) >= 2:  \n",
    "        data.append({\"index\": int(x[0]), \"query\": x[1]})\n",
    "    else:\n",
    "        raise ValueError(\"wtf\")\n",
    "queries = pd.concat([queries, pd.DataFrame(data)], ignore_index=True)\n",
    "queries.head(5)\n",
    "print(queries.isna().sum())"
   ]
  },
  {
   "cell_type": "code",
   "execution_count": 43,
   "metadata": {},
   "outputs": [
    {
     "name": "stdout",
     "output_type": "stream",
     "text": [
      "index         0\n",
      "AB       123568\n",
      "PMID          0\n",
      "dtype: int64\n",
      "402369\n",
      "401929\n"
     ]
    }
   ],
   "source": [
    "# drop missings\n",
    "print(docs.isna().sum())\n",
    "docs = docs.dropna()\n",
    "def remove_short_strings(df, column_name):\n",
    "    pattern = re.compile(r'\\W+')\n",
    "    filtered_df = df[df[column_name].apply(\n",
    "        lambda x: isinstance(x, str) and len(pattern.sub('', x)) >= 20\n",
    "    )].copy()\n",
    "    filtered_df.reset_index(drop=True, inplace=True)\n",
    "    \n",
    "    return filtered_df\n",
    "print(docs.shape[0])\n",
    "docs = remove_short_strings(docs, \"AB\")\n",
    "print(docs.shape[0])"
   ]
  },
  {
   "cell_type": "code",
   "execution_count": 44,
   "metadata": {},
   "outputs": [
    {
     "name": "stdout",
     "output_type": "stream",
     "text": [
      "1529\n"
     ]
    }
   ],
   "source": [
    "# find max words\n",
    "max_words = docs['AB'].apply(lambda x: len(x.split())).max()\n",
    "print(max_words)"
   ]
  },
  {
   "cell_type": "code",
   "execution_count": 45,
   "metadata": {},
   "outputs": [
    {
     "name": "stdout",
     "output_type": "stream",
     "text": [
      "  query_index doc_index relevant\n",
      "0           1  11642719        1\n",
      "1           1  11695244        1\n",
      "2           1  11700040        1\n",
      "3           1  11733969        1\n",
      "4           1  11741909        1\n",
      "query_index    0\n",
      "doc_index      0\n",
      "relevant       0\n",
      "dtype: int64\n"
     ]
    }
   ],
   "source": [
    "# load query results\n",
    "query_res = pd.DataFrame(columns=[\"query_index\", \"doc_index\", \"relevant\"])\n",
    "\n",
    "with open(\"../data/training-qrels.txt\", \"r\") as f:\n",
    "    lines = f.readlines()\n",
    "\n",
    "data = []\n",
    "for line in lines:\n",
    "    x = line.strip().split(\"\\t\")\n",
    "    if len(x) >= 4:  \n",
    "        data.append({\"query_index\": int(x[0]), \"doc_index\": int(x[2]), \"relevant\": int(x[3])})\n",
    "    else:\n",
    "        raise ValueError(\"wtf\")\n",
    "query_res = pd.concat([query_res, pd.DataFrame(data)], ignore_index=True)\n",
    "print(query_res.head(5))\n",
    "print(query_res.isna().sum())"
   ]
  },
  {
   "cell_type": "code",
   "execution_count": 46,
   "metadata": {},
   "outputs": [
    {
     "data": {
      "text/html": [
       "<div>\n",
       "<style scoped>\n",
       "    .dataframe tbody tr th:only-of-type {\n",
       "        vertical-align: middle;\n",
       "    }\n",
       "\n",
       "    .dataframe tbody tr th {\n",
       "        vertical-align: top;\n",
       "    }\n",
       "\n",
       "    .dataframe thead th {\n",
       "        text-align: right;\n",
       "    }\n",
       "</style>\n",
       "<table border=\"1\" class=\"dataframe\">\n",
       "  <thead>\n",
       "    <tr style=\"text-align: right;\">\n",
       "      <th></th>\n",
       "      <th>index</th>\n",
       "      <th>query</th>\n",
       "      <th>relevant_docs</th>\n",
       "    </tr>\n",
       "  </thead>\n",
       "  <tbody>\n",
       "    <tr>\n",
       "      <th>0</th>\n",
       "      <td>1</td>\n",
       "      <td>\"cyclin-dependent kinase inhibitor 1A (p21, Ci...</td>\n",
       "      <td>[11642719, 11695244, 11700040, 11733969, 11741...</td>\n",
       "    </tr>\n",
       "    <tr>\n",
       "      <th>1</th>\n",
       "      <td>2</td>\n",
       "      <td>\"DEAD/H (Asp-Glu-Ala-Asp/His) box polypeptide ...</td>\n",
       "      <td>[12101238, 12527917]</td>\n",
       "    </tr>\n",
       "    <tr>\n",
       "      <th>2</th>\n",
       "      <td>3</td>\n",
       "      <td>ets variant gene 6 (TEL oncogene) in Homo sapiens</td>\n",
       "      <td>[11731410, 11861293, 11861295, 12080468, 12091...</td>\n",
       "    </tr>\n",
       "    <tr>\n",
       "      <th>3</th>\n",
       "      <td>4</td>\n",
       "      <td>fibroblast growth factor 7 (keratinocyte growt...</td>\n",
       "      <td>[11937263, 11943656, 11973338, 12008951, 12016...</td>\n",
       "    </tr>\n",
       "    <tr>\n",
       "      <th>4</th>\n",
       "      <td>5</td>\n",
       "      <td>\"glycine receptor, alpha 1 (startle disease/hy...</td>\n",
       "      <td>[11580237, 11781706, 11973623, 11981020, 11981...</td>\n",
       "    </tr>\n",
       "  </tbody>\n",
       "</table>\n",
       "</div>"
      ],
      "text/plain": [
       "  index                                              query  \\\n",
       "0     1  \"cyclin-dependent kinase inhibitor 1A (p21, Ci...   \n",
       "1     2  \"DEAD/H (Asp-Glu-Ala-Asp/His) box polypeptide ...   \n",
       "2     3  ets variant gene 6 (TEL oncogene) in Homo sapiens   \n",
       "3     4  fibroblast growth factor 7 (keratinocyte growt...   \n",
       "4     5  \"glycine receptor, alpha 1 (startle disease/hy...   \n",
       "\n",
       "                                       relevant_docs  \n",
       "0  [11642719, 11695244, 11700040, 11733969, 11741...  \n",
       "1                               [12101238, 12527917]  \n",
       "2  [11731410, 11861293, 11861295, 12080468, 12091...  \n",
       "3  [11937263, 11943656, 11973338, 12008951, 12016...  \n",
       "4  [11580237, 11781706, 11973623, 11981020, 11981...  "
      ]
     },
     "execution_count": 46,
     "metadata": {},
     "output_type": "execute_result"
    }
   ],
   "source": [
    "# combine queries and results\n",
    "\n",
    "filtered_df = query_res[query_res[\"relevant\"] == 1]\n",
    "grouped_df = filtered_df.groupby('query_index')['doc_index'].apply(list).reset_index()\n",
    "grouped_df = grouped_df.rename(columns={'doc_index': 'relevant_docs'})\n",
    "queries_training = pd.concat([queries, grouped_df], axis=1)\n",
    "queries_training = queries_training.drop(columns=[\"query_index\"])\n",
    "queries_training.head(5)"
   ]
  },
  {
   "cell_type": "code",
   "execution_count": 47,
   "metadata": {},
   "outputs": [
    {
     "data": {
      "text/html": [
       "<div>\n",
       "<style scoped>\n",
       "    .dataframe tbody tr th:only-of-type {\n",
       "        vertical-align: middle;\n",
       "    }\n",
       "\n",
       "    .dataframe tbody tr th {\n",
       "        vertical-align: top;\n",
       "    }\n",
       "\n",
       "    .dataframe thead th {\n",
       "        text-align: right;\n",
       "    }\n",
       "</style>\n",
       "<table border=\"1\" class=\"dataframe\">\n",
       "  <thead>\n",
       "    <tr style=\"text-align: right;\">\n",
       "      <th></th>\n",
       "      <th>index</th>\n",
       "      <th>query</th>\n",
       "      <th>relevant_docs</th>\n",
       "    </tr>\n",
       "  </thead>\n",
       "  <tbody>\n",
       "    <tr>\n",
       "      <th>0</th>\n",
       "      <td>1</td>\n",
       "      <td>\"cyclin-dependent kinase inhibitor 1A (p21, Ci...</td>\n",
       "      <td>[11642719, 11695244, 11700040, 11733969, 11741...</td>\n",
       "    </tr>\n",
       "    <tr>\n",
       "      <th>1</th>\n",
       "      <td>2</td>\n",
       "      <td>\"DEAD/H (Asp-Glu-Ala-Asp/His) box polypeptide ...</td>\n",
       "      <td>[12101238, 12527917]</td>\n",
       "    </tr>\n",
       "    <tr>\n",
       "      <th>2</th>\n",
       "      <td>3</td>\n",
       "      <td>ets variant gene 6 (TEL oncogene) in Homo sapiens</td>\n",
       "      <td>[11731410, 11861293, 11861295, 12080468, 12091...</td>\n",
       "    </tr>\n",
       "    <tr>\n",
       "      <th>3</th>\n",
       "      <td>4</td>\n",
       "      <td>fibroblast growth factor 7 (keratinocyte growt...</td>\n",
       "      <td>[11937263, 11943656, 11973338, 12008951, 12016...</td>\n",
       "    </tr>\n",
       "    <tr>\n",
       "      <th>4</th>\n",
       "      <td>5</td>\n",
       "      <td>\"glycine receptor, alpha 1 (startle disease/hy...</td>\n",
       "      <td>[11580237, 11781706, 11973623, 11981020, 11981...</td>\n",
       "    </tr>\n",
       "  </tbody>\n",
       "</table>\n",
       "</div>"
      ],
      "text/plain": [
       "  index                                              query  \\\n",
       "0     1  \"cyclin-dependent kinase inhibitor 1A (p21, Ci...   \n",
       "1     2  \"DEAD/H (Asp-Glu-Ala-Asp/His) box polypeptide ...   \n",
       "2     3  ets variant gene 6 (TEL oncogene) in Homo sapiens   \n",
       "3     4  fibroblast growth factor 7 (keratinocyte growt...   \n",
       "4     5  \"glycine receptor, alpha 1 (startle disease/hy...   \n",
       "\n",
       "                                       relevant_docs  \n",
       "0  [11642719, 11695244, 11700040, 11733969, 11741...  \n",
       "1                               [12101238, 12527917]  \n",
       "2  [11731410, 11861293, 11861295, 12080468, 12091...  \n",
       "3  [11937263, 11943656, 11973338, 12008951, 12016...  \n",
       "4  [11580237, 11781706, 11973623, 11981020, 11981...  "
      ]
     },
     "execution_count": 47,
     "metadata": {},
     "output_type": "execute_result"
    }
   ],
   "source": [
    "# inspect final datasetsts\n",
    "queries_training.head(5)"
   ]
  },
  {
   "cell_type": "code",
   "execution_count": 48,
   "metadata": {},
   "outputs": [
    {
     "data": {
      "text/html": [
       "<div>\n",
       "<style scoped>\n",
       "    .dataframe tbody tr th:only-of-type {\n",
       "        vertical-align: middle;\n",
       "    }\n",
       "\n",
       "    .dataframe tbody tr th {\n",
       "        vertical-align: top;\n",
       "    }\n",
       "\n",
       "    .dataframe thead th {\n",
       "        text-align: right;\n",
       "    }\n",
       "</style>\n",
       "<table border=\"1\" class=\"dataframe\">\n",
       "  <thead>\n",
       "    <tr style=\"text-align: right;\">\n",
       "      <th></th>\n",
       "      <th>index</th>\n",
       "      <th>AB</th>\n",
       "      <th>PMID</th>\n",
       "    </tr>\n",
       "  </thead>\n",
       "  <tbody>\n",
       "    <tr>\n",
       "      <th>0</th>\n",
       "      <td>1</td>\n",
       "      <td>We present an evaluation of the accuracy and p...</td>\n",
       "      <td>11693564</td>\n",
       "    </tr>\n",
       "    <tr>\n",
       "      <th>1</th>\n",
       "      <td>2</td>\n",
       "      <td>An analysis is presented of experimental versu...</td>\n",
       "      <td>11693565</td>\n",
       "    </tr>\n",
       "    <tr>\n",
       "      <th>2</th>\n",
       "      <td>3</td>\n",
       "      <td>The global fold of maltose binding protein in ...</td>\n",
       "      <td>11693566</td>\n",
       "    </tr>\n",
       "    <tr>\n",
       "      <th>3</th>\n",
       "      <td>4</td>\n",
       "      <td>A general method is presented for magnetic fie...</td>\n",
       "      <td>11693567</td>\n",
       "    </tr>\n",
       "    <tr>\n",
       "      <th>4</th>\n",
       "      <td>5</td>\n",
       "      <td>The dependence between the anomeric carbon che...</td>\n",
       "      <td>11693568</td>\n",
       "    </tr>\n",
       "  </tbody>\n",
       "</table>\n",
       "</div>"
      ],
      "text/plain": [
       "   index                                                 AB      PMID\n",
       "0      1  We present an evaluation of the accuracy and p...  11693564\n",
       "1      2  An analysis is presented of experimental versu...  11693565\n",
       "2      3  The global fold of maltose binding protein in ...  11693566\n",
       "3      4  A general method is presented for magnetic fie...  11693567\n",
       "4      5  The dependence between the anomeric carbon che...  11693568"
      ]
     },
     "execution_count": 48,
     "metadata": {},
     "output_type": "execute_result"
    }
   ],
   "source": [
    "docs.head(5)"
   ]
  },
  {
   "cell_type": "code",
   "execution_count": 49,
   "metadata": {},
   "outputs": [
    {
     "name": "stdout",
     "output_type": "stream",
     "text": [
      "{12147208, 12147209, 11861518, 11688978, 11822867, 11714840, 12027934, 11374883, 11406125, 11042116, 11717190, 11700040, 11781193, 11781706, 11564874, 11580237, 11882578, 11846485, 11642719, 11685227, 11466351, 11841916, 11752574, 11752575, 11779460, 11740559, 11727760, 12412576, 11686318, 11441070, 11809712, 11743158, 11701948, 11749055, 11842244, 11748297, 11733969, 11731410, 11741909, 11752172, 11751405, 12161015}\n",
      "Number of relevant docs: 327\n",
      "Number of existing docs in 'docs' DataFrame: 285\n",
      "Number of missing docs: 42\n"
     ]
    }
   ],
   "source": [
    "# check if all doc ids from queries are in the dataset (after removing missings)\n",
    "unique_relevant_docs = set(queries_training['relevant_docs'].explode())\n",
    "existing_docs = unique_relevant_docs.intersection(docs.PMID)\n",
    "missing_docs = unique_relevant_docs.difference(docs.PMID)\n",
    "\n",
    "print(missing_docs)\n",
    "print(f\"Number of relevant docs: {len(unique_relevant_docs)}\")\n",
    "print(f\"Number of existing docs in 'docs' DataFrame: {len(existing_docs)}\")\n",
    "print(f\"Number of missing docs: {len(missing_docs)}\")"
   ]
  },
  {
   "cell_type": "code",
   "execution_count": 50,
   "metadata": {},
   "outputs": [],
   "source": [
    "# a smaller dataset\n",
    "existing_docs = set(unique_relevant_docs).intersection(set(docs['PMID']))"
   ]
  },
  {
   "cell_type": "code",
   "execution_count": 51,
   "metadata": {},
   "outputs": [],
   "source": [
    "# ofc there are missings relevant texts with no abstract. nice dataset:)\n",
    "def filter_missing_docs(doc_list):\n",
    "    return [doc for doc in doc_list if doc in existing_docs]\n",
    "    \n",
    "queries_training['relevant_docs'] = queries_training['relevant_docs'].apply(filter_missing_docs)\n",
    "# remove quries with no docs"
   ]
  },
  {
   "cell_type": "code",
   "execution_count": 52,
   "metadata": {},
   "outputs": [],
   "source": [
    "queries_training = queries_training[queries_training['relevant_docs'].apply(lambda x: len(x) > 0)]"
   ]
  },
  {
   "cell_type": "code",
   "execution_count": 53,
   "metadata": {},
   "outputs": [],
   "source": [
    "queries_training = queries_training.drop(columns=[\"index\"])\n",
    "docs = docs.drop(columns=[\"index\"])"
   ]
  },
  {
   "cell_type": "code",
   "execution_count": 54,
   "metadata": {},
   "outputs": [],
   "source": [
    "def preprocess_text(text, remove_stopwords=True):\n",
    "    copy = text\n",
    "    copy = copy.lower()\n",
    "    # remove punctuation\n",
    "    copy = re.sub(r\"[^\\w\\s]\", '', copy)\n",
    "    # remove double whitespaces.\n",
    "    copy = re.sub(r'\\s+', ' ', copy).strip()\n",
    "    \n",
    "    if remove_stopwords:\n",
    "        copy = ' '.join(w for w in copy.split() if w not in stop_words)\n",
    "    return copy\n",
    "\n",
    "def tokenize_text(text, tokenizer):\n",
    "    copy = tokenizer.tokenize(text)\n",
    "    return copy"
   ]
  },
  {
   "cell_type": "code",
   "execution_count": 55,
   "metadata": {},
   "outputs": [],
   "source": [
    "def precision_at_k(row, k=10):\n",
    "    retrieved = row['retrieved_docs'][:k]\n",
    "    relevant = set(row['relevant_docs'])\n",
    "    if k == 0:\n",
    "        return 0.0\n",
    "    num_relevant_in_retrieved = len(set(retrieved) & relevant)\n",
    "    precision = (num_relevant_in_retrieved / k) * 100\n",
    "    return precision\n"
   ]
  },
  {
   "cell_type": "code",
   "execution_count": 56,
   "metadata": {},
   "outputs": [],
   "source": [
    "def get_embeddings_words(tokens, model, tokenizer, window=512):\n",
    "    window = window - 2\n",
    "    embeddings = []\n",
    "    for i in range(0, len(tokens), window):\n",
    "        subset = tokens[i:i+window]\n",
    "        subset = [tokenizer.cls_token] + subset + [tokenizer.sep_token]\n",
    "        ids = tokenizer.convert_tokens_to_ids(subset)\n",
    "        masks = [1] * len(ids)\n",
    "        ids_tensor = torch.tensor([ids]).to(device)\n",
    "        mask_tensor = torch.tensor([masks]).to(device)\n",
    "        \n",
    "        with torch.no_grad():\n",
    "            outputs = model(ids_tensor, attention_mask=mask_tensor)\n",
    "            token_embeddings = outputs[0].squeeze().cpu().numpy()\n",
    "            embeddings.extend(token_embeddings)\n",
    "        \n",
    "    return embeddings"
   ]
  },
  {
   "cell_type": "code",
   "execution_count": 57,
   "metadata": {},
   "outputs": [],
   "source": [
    "def compute_tfidf_vectorizer(doc_list):\n",
    "    Tfidf = TfidfVectorizer()\n",
    "    Tfidf.fit(doc_list['tokens'].apply(lambda x: ' '.join(x)))\n",
    "    return Tfidf\n",
    "\n",
    "def get_embeddings_words_tfidf(tokens, tfidf_vectorizer):\n",
    "    token_str = ' '.join(tokens)\n",
    "    tfidf_vector = tfidf_vectorizer.transform([token_str])\n",
    "    tfidf_array = tfidf_vector.toarray()[0]\n",
    "    return [tfidf_array]"
   ]
  },
  {
   "cell_type": "code",
   "execution_count": 58,
   "metadata": {},
   "outputs": [
    {
     "name": "stdout",
     "output_type": "stream",
     "text": [
      "Preprocessing docs\n"
     ]
    },
    {
     "name": "stderr",
     "output_type": "stream",
     "text": [
      "100%|██████████| 285/285 [00:00<00:00, 14592.53it/s]\n"
     ]
    },
    {
     "name": "stdout",
     "output_type": "stream",
     "text": [
      "Tokenizing docs\n"
     ]
    },
    {
     "name": "stderr",
     "output_type": "stream",
     "text": [
      "100%|██████████| 285/285 [00:00<00:00, 759.66it/s]\n"
     ]
    },
    {
     "name": "stdout",
     "output_type": "stream",
     "text": [
      "Preprocessing queries\n"
     ]
    },
    {
     "name": "stderr",
     "output_type": "stream",
     "text": [
      "100%|██████████| 47/47 [00:00<00:00, 47138.28it/s]\n"
     ]
    },
    {
     "name": "stdout",
     "output_type": "stream",
     "text": [
      "Tokenizing queriess\n"
     ]
    },
    {
     "name": "stderr",
     "output_type": "stream",
     "text": [
      "100%|██████████| 47/47 [00:00<00:00, 9379.66it/s]\n"
     ]
    }
   ],
   "source": [
    "# try token-level\n",
    "# Select the subset of the docs present in the query answers.\n",
    "# no lowercasing here, as we do it ourselves.\n",
    "tokenizer = BertTokenizer.from_pretrained(\"bert-base-uncased\", do_lower_case=False)\n",
    "selected_docs = docs[docs['PMID'].isin(existing_docs)]\n",
    "selected_docs_copy = selected_docs.copy(deep=True)\n",
    "\n",
    "# preprocess and tokenize docs\n",
    "print(\"Preprocessing docs\")\n",
    "selected_docs_copy[\"tokens\"] = selected_docs_copy[\"AB\"].progress_apply(preprocess_text)\n",
    "print(\"Tokenizing docs\")\n",
    "selected_docs_copy[\"tokens\"] = selected_docs_copy[\"tokens\"].progress_apply(tokenize_text, tokenizer=tokenizer)\n",
    "\n",
    "# preprocess and tokenize queries\n",
    "selected_queries = queries_training.copy(deep=True)\n",
    "print(\"Preprocessing queries\")\n",
    "selected_queries[\"tokens\"] = selected_queries[\"query\"].progress_apply(preprocess_text)\n",
    "print(\"Tokenizing queriess\")\n",
    "selected_queries[\"tokens\"] = selected_queries[\"tokens\"].progress_apply(tokenize_text, tokenizer=tokenizer)"
   ]
  },
  {
   "cell_type": "code",
   "execution_count": 59,
   "metadata": {},
   "outputs": [],
   "source": [
    "# copies for tf-idf\n",
    "selected_docs_tfidf = selected_docs_copy.copy(deep=True)\n",
    "selected_queries_tfidf = selected_queries.copy(deep=True)"
   ]
  },
  {
   "cell_type": "code",
   "execution_count": 60,
   "metadata": {},
   "outputs": [
    {
     "name": "stderr",
     "output_type": "stream",
     "text": [
      "100%|██████████| 285/285 [00:01<00:00, 156.68it/s]\n",
      "100%|██████████| 47/47 [00:00<00:00, 173.66it/s]\n"
     ]
    },
    {
     "data": {
      "text/html": [
       "<div>\n",
       "<style scoped>\n",
       "    .dataframe tbody tr th:only-of-type {\n",
       "        vertical-align: middle;\n",
       "    }\n",
       "\n",
       "    .dataframe tbody tr th {\n",
       "        vertical-align: top;\n",
       "    }\n",
       "\n",
       "    .dataframe thead th {\n",
       "        text-align: right;\n",
       "    }\n",
       "</style>\n",
       "<table border=\"1\" class=\"dataframe\">\n",
       "  <thead>\n",
       "    <tr style=\"text-align: right;\">\n",
       "      <th></th>\n",
       "      <th>query</th>\n",
       "      <th>relevant_docs</th>\n",
       "      <th>tokens</th>\n",
       "      <th>embedding</th>\n",
       "    </tr>\n",
       "  </thead>\n",
       "  <tbody>\n",
       "    <tr>\n",
       "      <th>0</th>\n",
       "      <td>\"cyclin-dependent kinase inhibitor 1A (p21, Ci...</td>\n",
       "      <td>[11695244, 11751903, 11756412, 11762751, 11872...</td>\n",
       "      <td>[cy, ##cl, ##ind, ##ep, ##end, ##ent, kinase, ...</td>\n",
       "      <td>[[-0.7932618, -0.1177296, -0.5675259, 0.037736...</td>\n",
       "    </tr>\n",
       "    <tr>\n",
       "      <th>1</th>\n",
       "      <td>\"DEAD/H (Asp-Glu-Ala-Asp/His) box polypeptide ...</td>\n",
       "      <td>[12101238, 12527917]</td>\n",
       "      <td>[dead, ##h, as, ##pg, ##lu, ##ala, ##as, ##phi...</td>\n",
       "      <td>[[-0.6105295, 0.026878148, -0.1451509, -0.0015...</td>\n",
       "    </tr>\n",
       "  </tbody>\n",
       "</table>\n",
       "</div>"
      ],
      "text/plain": [
       "                                               query  \\\n",
       "0  \"cyclin-dependent kinase inhibitor 1A (p21, Ci...   \n",
       "1  \"DEAD/H (Asp-Glu-Ala-Asp/His) box polypeptide ...   \n",
       "\n",
       "                                       relevant_docs  \\\n",
       "0  [11695244, 11751903, 11756412, 11762751, 11872...   \n",
       "1                               [12101238, 12527917]   \n",
       "\n",
       "                                              tokens  \\\n",
       "0  [cy, ##cl, ##ind, ##ep, ##end, ##ent, kinase, ...   \n",
       "1  [dead, ##h, as, ##pg, ##lu, ##ala, ##as, ##phi...   \n",
       "\n",
       "                                           embedding  \n",
       "0  [[-0.7932618, -0.1177296, -0.5675259, 0.037736...  \n",
       "1  [[-0.6105295, 0.026878148, -0.1451509, -0.0015...  "
      ]
     },
     "execution_count": 60,
     "metadata": {},
     "output_type": "execute_result"
    }
   ],
   "source": [
    "# calculate embedding matrices using bert\n",
    "model = BertModel.from_pretrained('bert-base-uncased')\n",
    "device = torch.device(\"cuda\" if torch.cuda.is_available() else \"cpu\")\n",
    "model.to(device)\n",
    "\n",
    "selected_docs_copy[\"embeddings\"] = selected_docs_copy[\"tokens\"].progress_apply(get_embeddings_words, model=model, tokenizer=tokenizer)\n",
    "selected_queries[\"embedding\"] = selected_queries[\"tokens\"].progress_apply(get_embeddings_words, model=model, tokenizer=tokenizer)\n",
    "selected_queries.head(2)"
   ]
  },
  {
   "cell_type": "code",
   "execution_count": 61,
   "metadata": {},
   "outputs": [
    {
     "name": "stderr",
     "output_type": "stream",
     "text": [
      "100%|██████████| 285/285 [00:00<00:00, 11783.38it/s]\n",
      "100%|██████████| 285/285 [00:00<00:00, 136911.77it/s]\n",
      "100%|██████████| 47/47 [00:00<00:00, 47059.51it/s]\n",
      "100%|██████████| 47/47 [00:00<00:00, 47014.62it/s]\n",
      "100%|██████████| 285/285 [00:00<00:00, 4802.23it/s]\n",
      "100%|██████████| 47/47 [00:00<00:00, 5593.52it/s]\n"
     ]
    },
    {
     "data": {
      "text/html": [
       "<div>\n",
       "<style scoped>\n",
       "    .dataframe tbody tr th:only-of-type {\n",
       "        vertical-align: middle;\n",
       "    }\n",
       "\n",
       "    .dataframe tbody tr th {\n",
       "        vertical-align: top;\n",
       "    }\n",
       "\n",
       "    .dataframe thead th {\n",
       "        text-align: right;\n",
       "    }\n",
       "</style>\n",
       "<table border=\"1\" class=\"dataframe\">\n",
       "  <thead>\n",
       "    <tr style=\"text-align: right;\">\n",
       "      <th></th>\n",
       "      <th>AB</th>\n",
       "      <th>PMID</th>\n",
       "      <th>tokens</th>\n",
       "      <th>embeddings</th>\n",
       "    </tr>\n",
       "  </thead>\n",
       "  <tbody>\n",
       "    <tr>\n",
       "      <th>214</th>\n",
       "      <td>The role of the Fas ligand-Fas system in castr...</td>\n",
       "      <td>11695234</td>\n",
       "      <td>[role, fas, ligandfas, system, castrationinduc...</td>\n",
       "      <td>[[0.0, 0.0, 0.0, 0.0, 0.0, 0.0, 0.0, 0.0, 0.0,...</td>\n",
       "    </tr>\n",
       "    <tr>\n",
       "      <th>224</th>\n",
       "      <td>Human somatic cells cultured in vitro exhibit ...</td>\n",
       "      <td>11695244</td>\n",
       "      <td>[human, somatic, cells, cultured, vitro, exhib...</td>\n",
       "      <td>[[0.0, 0.0, 0.0, 0.0, 0.0, 0.0, 0.0, 0.0, 0.0,...</td>\n",
       "    </tr>\n",
       "  </tbody>\n",
       "</table>\n",
       "</div>"
      ],
      "text/plain": [
       "                                                    AB      PMID  \\\n",
       "214  The role of the Fas ligand-Fas system in castr...  11695234   \n",
       "224  Human somatic cells cultured in vitro exhibit ...  11695244   \n",
       "\n",
       "                                                tokens  \\\n",
       "214  [role, fas, ligandfas, system, castrationinduc...   \n",
       "224  [human, somatic, cells, cultured, vitro, exhib...   \n",
       "\n",
       "                                            embeddings  \n",
       "214  [[0.0, 0.0, 0.0, 0.0, 0.0, 0.0, 0.0, 0.0, 0.0,...  \n",
       "224  [[0.0, 0.0, 0.0, 0.0, 0.0, 0.0, 0.0, 0.0, 0.0,...  "
      ]
     },
     "execution_count": 61,
     "metadata": {},
     "output_type": "execute_result"
    }
   ],
   "source": [
    "# calculate tf-idf embeddings without tokenization\n",
    "class DummyTokenizer():   \n",
    "    def tokenize(self, text):\n",
    "        return text.split()\n",
    "\n",
    "dummy_tokenizer = DummyTokenizer()\n",
    "no_tokenizer_docs = selected_docs_tfidf.copy()\n",
    "no_tokenizer_queries = selected_queries_tfidf.copy()\n",
    "\n",
    "no_tokenizer_docs[\"tokens\"] = no_tokenizer_docs[\"AB\"].progress_apply(preprocess_text)\n",
    "no_tokenizer_docs[\"tokens\"] = no_tokenizer_docs[\"tokens\"].progress_apply(tokenize_text, tokenizer=dummy_tokenizer)\n",
    "no_tokenizer_queries[\"tokens\"] = no_tokenizer_queries[\"query\"].progress_apply(preprocess_text)\n",
    "no_tokenizer_queries[\"tokens\"] = no_tokenizer_queries[\"tokens\"].progress_apply(tokenize_text, tokenizer=dummy_tokenizer)\n",
    "\n",
    "no_tokenizer_vectorizer = compute_tfidf_vectorizer(no_tokenizer_docs)\n",
    "no_tokenizer_docs[\"embeddings\"] = no_tokenizer_docs[\"tokens\"].progress_apply(get_embeddings_words_tfidf, tfidf_vectorizer=no_tokenizer_vectorizer)\n",
    "no_tokenizer_queries[\"embedding\"] = no_tokenizer_queries[\"tokens\"].progress_apply(get_embeddings_words_tfidf, tfidf_vectorizer=no_tokenizer_vectorizer)\n",
    "no_tokenizer_docs.head(2)"
   ]
  },
  {
   "cell_type": "code",
   "execution_count": 62,
   "metadata": {},
   "outputs": [
    {
     "name": "stderr",
     "output_type": "stream",
     "text": [
      "100%|██████████| 285/285 [00:00<00:00, 4267.37it/s]\n",
      "100%|██████████| 47/47 [00:00<00:00, 5866.86it/s]\n"
     ]
    },
    {
     "data": {
      "text/html": [
       "<div>\n",
       "<style scoped>\n",
       "    .dataframe tbody tr th:only-of-type {\n",
       "        vertical-align: middle;\n",
       "    }\n",
       "\n",
       "    .dataframe tbody tr th {\n",
       "        vertical-align: top;\n",
       "    }\n",
       "\n",
       "    .dataframe thead th {\n",
       "        text-align: right;\n",
       "    }\n",
       "</style>\n",
       "<table border=\"1\" class=\"dataframe\">\n",
       "  <thead>\n",
       "    <tr style=\"text-align: right;\">\n",
       "      <th></th>\n",
       "      <th>query</th>\n",
       "      <th>relevant_docs</th>\n",
       "      <th>tokens</th>\n",
       "      <th>embedding</th>\n",
       "    </tr>\n",
       "  </thead>\n",
       "  <tbody>\n",
       "    <tr>\n",
       "      <th>0</th>\n",
       "      <td>\"cyclin-dependent kinase inhibitor 1A (p21, Ci...</td>\n",
       "      <td>[11695244, 11751903, 11756412, 11762751, 11872...</td>\n",
       "      <td>[cy, ##cl, ##ind, ##ep, ##end, ##ent, kinase, ...</td>\n",
       "      <td>[[0.0, 0.0, 0.0, 0.0, 0.0, 0.0, 0.0, 0.0, 0.0,...</td>\n",
       "    </tr>\n",
       "    <tr>\n",
       "      <th>1</th>\n",
       "      <td>\"DEAD/H (Asp-Glu-Ala-Asp/His) box polypeptide ...</td>\n",
       "      <td>[12101238, 12527917]</td>\n",
       "      <td>[dead, ##h, as, ##pg, ##lu, ##ala, ##as, ##phi...</td>\n",
       "      <td>[[0.0, 0.0, 0.0, 0.0, 0.0, 0.0, 0.0, 0.0, 0.0,...</td>\n",
       "    </tr>\n",
       "  </tbody>\n",
       "</table>\n",
       "</div>"
      ],
      "text/plain": [
       "                                               query  \\\n",
       "0  \"cyclin-dependent kinase inhibitor 1A (p21, Ci...   \n",
       "1  \"DEAD/H (Asp-Glu-Ala-Asp/His) box polypeptide ...   \n",
       "\n",
       "                                       relevant_docs  \\\n",
       "0  [11695244, 11751903, 11756412, 11762751, 11872...   \n",
       "1                               [12101238, 12527917]   \n",
       "\n",
       "                                              tokens  \\\n",
       "0  [cy, ##cl, ##ind, ##ep, ##end, ##ent, kinase, ...   \n",
       "1  [dead, ##h, as, ##pg, ##lu, ##ala, ##as, ##phi...   \n",
       "\n",
       "                                           embedding  \n",
       "0  [[0.0, 0.0, 0.0, 0.0, 0.0, 0.0, 0.0, 0.0, 0.0,...  \n",
       "1  [[0.0, 0.0, 0.0, 0.0, 0.0, 0.0, 0.0, 0.0, 0.0,...  "
      ]
     },
     "execution_count": 62,
     "metadata": {},
     "output_type": "execute_result"
    }
   ],
   "source": [
    "# calculate embedding matrices using tf-idf\n",
    "idfs = compute_tfidf_vectorizer(selected_docs_tfidf)\n",
    "selected_docs_tfidf[\"embeddings\"] = selected_docs_tfidf[\"tokens\"].progress_apply(\n",
    "    get_embeddings_words_tfidf, tfidf_vectorizer=idfs)\n",
    "selected_queries_tfidf[\"embedding\"] = selected_queries_tfidf[\"tokens\"].progress_apply(\n",
    "    get_embeddings_words_tfidf, tfidf_vectorizer=idfs)\n",
    "selected_queries_tfidf.head(2)"
   ]
  },
  {
   "cell_type": "code",
   "execution_count": 63,
   "metadata": {},
   "outputs": [],
   "source": [
    "def retrieve_all_docs_df(query_embeddings, dataset, top_n=10):\n",
    "    query_embeddings = np.array(query_embeddings).astype(np.float32)\n",
    "    vectors_list = dataset[\"embeddings\"].values\n",
    "    pmids = dataset[\"PMID\"].values.astype(np.int64)\n",
    "\n",
    "    scores = []\n",
    "\n",
    "    for doc_emb in vectors_list:\n",
    "        doc_emb = np.array(doc_emb).astype(np.float32)\n",
    "        cos_sim_matrix = cosine_similarity(query_embeddings, doc_emb)\n",
    "        max_similarities = np.max(cos_sim_matrix, axis=1)\n",
    "        score = np.mean(max_similarities)\n",
    "        scores.append(score)\n",
    "    df = pd.DataFrame({\n",
    "        'doc_id': pmids,\n",
    "        'similarity_score': scores\n",
    "    })\n",
    "\n",
    "    df_sorted = df.sort_values(by='similarity_score', ascending=False).reset_index(drop=True)\n",
    "    top_doc_ids = df_sorted['doc_id'].head(top_n).tolist()\n",
    "    \n",
    "    return top_doc_ids"
   ]
  },
  {
   "cell_type": "code",
   "execution_count": 64,
   "metadata": {},
   "outputs": [
    {
     "name": "stderr",
     "output_type": "stream",
     "text": [
      "100%|██████████| 47/47 [00:07<00:00,  6.08it/s]"
     ]
    },
    {
     "name": "stdout",
     "output_type": "stream",
     "text": [
      "28.085106382978722\n"
     ]
    },
    {
     "name": "stderr",
     "output_type": "stream",
     "text": [
      "\n"
     ]
    }
   ],
   "source": [
    "# bert base result\n",
    "selected_queries[\"retrieved_docs\"] = selected_queries[\"embedding\"].progress_apply(retrieve_all_docs_df, \n",
    "                                                                                  dataset=selected_docs_copy)\n",
    "selected_queries[\"precission_at_k\"] = selected_queries.apply(precision_at_k, axis=1)\n",
    "print(selected_queries[\"precission_at_k\"].mean())"
   ]
  },
  {
   "cell_type": "code",
   "execution_count": 65,
   "metadata": {},
   "outputs": [
    {
     "name": "stderr",
     "output_type": "stream",
     "text": [
      "100%|██████████| 47/47 [00:02<00:00, 17.92it/s]"
     ]
    },
    {
     "name": "stdout",
     "output_type": "stream",
     "text": [
      "28.29787234042553\n"
     ]
    },
    {
     "name": "stderr",
     "output_type": "stream",
     "text": [
      "\n"
     ]
    }
   ],
   "source": [
    "# tf-idf result\n",
    "selected_queries_tfidf[\"retrieved_docs\"] = selected_queries_tfidf[\"embedding\"].progress_apply(retrieve_all_docs_df, \n",
    "                                                                                  dataset=selected_docs_tfidf)\n",
    "selected_queries_tfidf[\"precission_at_k\"] = selected_queries_tfidf.apply(precision_at_k, axis=1)\n",
    "\n",
    "print(selected_queries_tfidf[\"precission_at_k\"].mean())"
   ]
  },
  {
   "cell_type": "code",
   "execution_count": 66,
   "metadata": {},
   "outputs": [
    {
     "name": "stderr",
     "output_type": "stream",
     "text": [
      "100%|██████████| 47/47 [00:02<00:00, 17.08it/s]"
     ]
    },
    {
     "name": "stdout",
     "output_type": "stream",
     "text": [
      "27.4468085106383\n"
     ]
    },
    {
     "name": "stderr",
     "output_type": "stream",
     "text": [
      "\n"
     ]
    }
   ],
   "source": [
    "# tf-idf untokenized result\n",
    "no_tokenizer_queries[\"retrieved_docs\"] = no_tokenizer_queries[\"embedding\"].progress_apply(retrieve_all_docs_df, \n",
    "                                                                                  dataset=no_tokenizer_docs)\n",
    "no_tokenizer_queries[\"precission_at_k\"] = no_tokenizer_queries.apply(precision_at_k, axis=1)\n",
    "\n",
    "print(no_tokenizer_queries[\"precission_at_k\"].mean())"
   ]
  },
  {
   "cell_type": "code",
   "execution_count": 67,
   "metadata": {},
   "outputs": [
    {
     "name": "stdout",
     "output_type": "stream",
     "text": [
      "0.9334856676468732\n",
      "t-statistic: -0.08391813582966892\n",
      "p-value (one-tailed): 0.5332610291581243\n"
     ]
    }
   ],
   "source": [
    "# paired t-test bert vs tfidf both tokenized using bert.\n",
    "from scipy.stats import ttest_rel\n",
    "from scipy import stats\n",
    "\n",
    "bert_scores = selected_queries[\"precission_at_k\"].to_numpy()\n",
    "tfidf_scores = selected_queries_tfidf[\"precission_at_k\"].to_numpy()\n",
    "\n",
    "t_stat, p_two_tailed = ttest_rel(bert_scores, tfidf_scores)\n",
    "print(p_two_tailed)\n",
    "p_one_tailed = stats.t.sf(t_stat, df=len(bert_scores - 1))\n",
    "\n",
    "print(f\"t-statistic: {t_stat}\")\n",
    "print(f\"p-value (one-tailed): {p_one_tailed}\")\n",
    "\n"
   ]
  },
  {
   "cell_type": "code",
   "execution_count": 68,
   "metadata": {},
   "outputs": [
    {
     "name": "stdout",
     "output_type": "stream",
     "text": [
      "0.6634998681906681\n",
      "t-statistic: 0.43791157221014404\n",
      "p-value (one-tailed): 0.3317282020025263\n"
     ]
    }
   ],
   "source": [
    "# t-test tfidf tokenized vs not tokenized.\n",
    "from scipy.stats import ttest_rel\n",
    "from scipy import stats\n",
    "\n",
    "tfidf_tokenized = selected_queries_tfidf[\"precission_at_k\"].to_numpy()\n",
    "tfidf_not_tokenized = no_tokenizer_queries[\"precission_at_k\"].to_numpy()\n",
    "\n",
    "t_stat, p_two_tailed = ttest_rel(tfidf_tokenized, tfidf_not_tokenized)\n",
    "print(p_two_tailed)\n",
    "p_one_tailed = stats.t.sf(t_stat, df=len(bert_scores - 1))\n",
    "\n",
    "print(f\"t-statistic: {t_stat}\")\n",
    "print(f\"p-value (one-tailed): {p_one_tailed}\")"
   ]
  },
  {
   "cell_type": "code",
   "execution_count": 142,
   "metadata": {},
   "outputs": [
    {
     "data": {
      "image/png": "[encoded data removed]",
      "text/plain": [
       "<Figure size 640x480 with 1 Axes>"
      ]
     },
     "metadata": {},
     "output_type": "display_data"
    }
   ],
   "source": [
    "import matplotlib.pyplot as plt\n",
    "# assessing normality\n",
    "diff = np.array(bert_scores) - np.array(tfidf_scores)\n",
    "plt.hist(diff, bins=20, edgecolor='black')\n",
    "plt.title(\"Histogram of Differences\")\n",
    "plt.xlabel(\"Difference\")\n",
    "plt.ylabel(\"Frequency\")\n",
    "plt.show()\n"
   ]
  },
  {
   "cell_type": "code",
   "execution_count": 143,
   "metadata": {},
   "outputs": [
    {
     "data": {
      "image/png": "[encoded data removed]",
      "text/plain": [
       "<Figure size 640x480 with 1 Axes>"
      ]
     },
     "metadata": {},
     "output_type": "display_data"
    }
   ],
   "source": [
    "# bootstraping and checking for the distribution of the mean\n",
    "np.random.seed(0)\n",
    "n_bootstraps = 10000\n",
    "bootstrap_means = []\n",
    "\n",
    "for i in range(n_bootstraps):\n",
    "    bootstrap_sample = np.random.choice(diff, size=len(diff), replace=True)\n",
    "    bootstrap_means.append(np.mean(bootstrap_sample))\n",
    "\n",
    "plt.hist(bootstrap_means, bins=40, edgecolor='black')\n",
    "plt.title(\"Bootstrap Sampling Distribution of the Mean\")\n",
    "plt.xlabel(\"Mean of Differences\")\n",
    "plt.ylabel(\"Frequency\")\n",
    "plt.show()"
   ]
  },
  {
   "cell_type": "code",
   "execution_count": 144,
   "metadata": {},
   "outputs": [],
   "source": [
    "# biobert\n",
    "from transformers import AutoTokenizer, AutoModel\n",
    "\n",
    "bio_bert_tokenizer = AutoTokenizer.from_pretrained(\"dmis-lab/biobert-v1.1\")\n",
    "bio_bert_model = AutoModel.from_pretrained(\"dmis-lab/biobert-v1.1\")"
   ]
  },
  {
   "cell_type": "code",
   "execution_count": 145,
   "metadata": {},
   "outputs": [
    {
     "name": "stdout",
     "output_type": "stream",
     "text": [
      "Preprocessing docs\n"
     ]
    },
    {
     "name": "stderr",
     "output_type": "stream",
     "text": [
      "100%|██████████| 285/285 [00:00<00:00, 13292.01it/s]\n"
     ]
    },
    {
     "name": "stdout",
     "output_type": "stream",
     "text": [
      "Tokenizing docs\n"
     ]
    },
    {
     "name": "stderr",
     "output_type": "stream",
     "text": [
      "  0%|          | 0/285 [00:00<?, ?it/s]Token indices sequence length is longer than the specified maximum sequence length for this model (533 > 512). Running this sequence through the model will result in indexing errors\n",
      "100%|██████████| 285/285 [00:00<00:00, 3069.93it/s]\n"
     ]
    },
    {
     "name": "stdout",
     "output_type": "stream",
     "text": [
      "Preprocessing queries\n"
     ]
    },
    {
     "name": "stderr",
     "output_type": "stream",
     "text": [
      "100%|██████████| 47/47 [00:00<?, ?it/s]\n"
     ]
    },
    {
     "name": "stdout",
     "output_type": "stream",
     "text": [
      "Tokenizing queriess\n"
     ]
    },
    {
     "name": "stderr",
     "output_type": "stream",
     "text": [
      "100%|██████████| 47/47 [00:00<00:00, 22726.80it/s]\n"
     ]
    }
   ],
   "source": [
    "bio_docs = selected_docs.copy(deep=True)\n",
    "\n",
    "# preprocess and tokenize docs\n",
    "print(\"Preprocessing docs\")\n",
    "bio_docs[\"tokens\"] = bio_docs[\"AB\"].progress_apply(preprocess_text)\n",
    "print(\"Tokenizing docs\")\n",
    "bio_docs[\"tokens\"] = bio_docs[\"tokens\"].progress_apply(tokenize_text, tokenizer=bio_bert_tokenizer)\n",
    "\n",
    "# preprocess and tokenize queries\n",
    "bio_queries = queries_training.copy(deep=True)\n",
    "print(\"Preprocessing queries\")\n",
    "bio_queries[\"tokens\"] = bio_queries[\"query\"].progress_apply(preprocess_text)\n",
    "print(\"Tokenizing queriess\")\n",
    "bio_queries[\"tokens\"] = bio_queries[\"tokens\"].progress_apply(tokenize_text, tokenizer=bio_bert_tokenizer)\n"
   ]
  },
  {
   "cell_type": "code",
   "execution_count": 146,
   "metadata": {},
   "outputs": [
    {
     "name": "stderr",
     "output_type": "stream",
     "text": [
      "100%|██████████| 285/285 [00:01<00:00, 173.03it/s]\n",
      "100%|██████████| 47/47 [00:00<00:00, 177.94it/s]\n"
     ]
    },
    {
     "data": {
      "text/html": [
       "<div>\n",
       "<style scoped>\n",
       "    .dataframe tbody tr th:only-of-type {\n",
       "        vertical-align: middle;\n",
       "    }\n",
       "\n",
       "    .dataframe tbody tr th {\n",
       "        vertical-align: top;\n",
       "    }\n",
       "\n",
       "    .dataframe thead th {\n",
       "        text-align: right;\n",
       "    }\n",
       "</style>\n",
       "<table border=\"1\" class=\"dataframe\">\n",
       "  <thead>\n",
       "    <tr style=\"text-align: right;\">\n",
       "      <th></th>\n",
       "      <th>query</th>\n",
       "      <th>relevant_docs</th>\n",
       "      <th>tokens</th>\n",
       "      <th>embedding</th>\n",
       "    </tr>\n",
       "  </thead>\n",
       "  <tbody>\n",
       "    <tr>\n",
       "      <th>0</th>\n",
       "      <td>\"cyclin-dependent kinase inhibitor 1A (p21, Ci...</td>\n",
       "      <td>[11695244, 11751903, 11756412, 11762751, 11872...</td>\n",
       "      <td>[c, ##y, ##c, ##lind, ##ep, ##end, ##ent, kina...</td>\n",
       "      <td>[[0.20086853, -0.14764602, -0.37700272, 0.2681...</td>\n",
       "    </tr>\n",
       "    <tr>\n",
       "      <th>1</th>\n",
       "      <td>\"DEAD/H (Asp-Glu-Ala-Asp/His) box polypeptide ...</td>\n",
       "      <td>[12101238, 12527917]</td>\n",
       "      <td>[dead, ##h, as, ##p, ##g, ##lu, ##ala, ##as, #...</td>\n",
       "      <td>[[0.2857882, -0.042199947, -0.29392847, 0.0733...</td>\n",
       "    </tr>\n",
       "  </tbody>\n",
       "</table>\n",
       "</div>"
      ],
      "text/plain": [
       "                                               query  \\\n",
       "0  \"cyclin-dependent kinase inhibitor 1A (p21, Ci...   \n",
       "1  \"DEAD/H (Asp-Glu-Ala-Asp/His) box polypeptide ...   \n",
       "\n",
       "                                       relevant_docs  \\\n",
       "0  [11695244, 11751903, 11756412, 11762751, 11872...   \n",
       "1                               [12101238, 12527917]   \n",
       "\n",
       "                                              tokens  \\\n",
       "0  [c, ##y, ##c, ##lind, ##ep, ##end, ##ent, kina...   \n",
       "1  [dead, ##h, as, ##p, ##g, ##lu, ##ala, ##as, #...   \n",
       "\n",
       "                                           embedding  \n",
       "0  [[0.20086853, -0.14764602, -0.37700272, 0.2681...  \n",
       "1  [[0.2857882, -0.042199947, -0.29392847, 0.0733...  "
      ]
     },
     "execution_count": 146,
     "metadata": {},
     "output_type": "execute_result"
    }
   ],
   "source": [
    "# biobert embeddings and results\n",
    "device = torch.device(\"cuda\" if torch.cuda.is_available() else \"cpu\")\n",
    "bio_bert_model.to(device)\n",
    "bio_docs[\"embeddings\"] = bio_docs[\"tokens\"].progress_apply(get_embeddings_words, \n",
    "                                                           model=bio_bert_model, tokenizer=bio_bert_tokenizer)\n",
    "bio_queries[\"embedding\"] = bio_queries[\"tokens\"].progress_apply(get_embeddings_words, \n",
    "                                                                model=bio_bert_model, tokenizer=bio_bert_tokenizer)\n",
    "bio_queries.head(2)"
   ]
  },
  {
   "cell_type": "code",
   "execution_count": 147,
   "metadata": {},
   "outputs": [
    {
     "name": "stderr",
     "output_type": "stream",
     "text": [
      "100%|██████████| 47/47 [00:09<00:00,  5.22it/s]"
     ]
    },
    {
     "name": "stdout",
     "output_type": "stream",
     "text": [
      "29.574468085106382\n"
     ]
    },
    {
     "name": "stderr",
     "output_type": "stream",
     "text": [
      "\n"
     ]
    }
   ],
   "source": [
    "bio_queries[\"retrieved_docs\"] = bio_queries[\"embedding\"].progress_apply(retrieve_all_docs_df, \n",
    "                                                                                  dataset=bio_docs)\n",
    "bio_queries[\"precission_at_k\"] = bio_queries.apply(precision_at_k, axis=1)\n",
    "print(bio_queries[\"precission_at_k\"].mean())"
   ]
  },
  {
   "cell_type": "code",
   "execution_count": 148,
   "metadata": {},
   "outputs": [
    {
     "name": "stdout",
     "output_type": "stream",
     "text": [
      "t-statistic: 0.879794556438298\n",
      "p-value (one-tailed): 0.191723509144077\n"
     ]
    }
   ],
   "source": [
    "# test between bert and biobert\n",
    "from scipy.stats import ttest_rel\n",
    "from scipy import stats\n",
    "\n",
    "bert_scores = selected_queries[\"precission_at_k\"].to_numpy()\n",
    "bio_bert_scores = bio_queries[\"precission_at_k\"].to_numpy()\n",
    "\n",
    "t_stat, p_two_tailed = ttest_rel(bio_bert_scores, bert_scores)\n",
    "\n",
    "p_one_tailed = stats.t.sf(t_stat, df=len(bio_bert_scores - 1))\n",
    "\n",
    "print(f\"t-statistic: {t_stat}\")\n",
    "print(f\"p-value (one-tailed): {p_one_tailed}\")"
   ]
  },
  {
   "cell_type": "code",
   "execution_count": 40,
   "metadata": {},
   "outputs": [
    {
     "name": "stdout",
     "output_type": "stream",
     "text": [
      "F-statistic: 0.04805169565639889\n",
      "p-value: 0.9531004548689842\n"
     ]
    }
   ],
   "source": [
    "# anova\n",
    "\n",
    "bert_scores = selected_queries[\"precission_at_k\"].to_numpy()\n",
    "bio_bert_scores = bio_queries[\"precission_at_k\"].to_numpy()\n",
    "tfidf_scores = selected_queries_tfidf[\"precission_at_k\"].to_numpy()\n",
    "\n",
    "f, p = stats.f_oneway(bert_scores, bio_bert_scores, tfidf_scores)\n",
    "print(f\"F-statistic: {f}\")\n",
    "print(f\"p-value: {p}\")"
   ]
  },
  {
   "cell_type": "code",
   "execution_count": null,
   "metadata": {},
   "outputs": [],
   "source": [
    "\n",
    "        "
   ]
  }
 ],
 "metadata": {
  "kernelspec": {
   "display_name": "transformers",
   "language": "python",
   "name": "python3"
  },
  "language_info": {
   "codemirror_mode": {
    "name": "ipython",
    "version": 3
   },
   "file_extension": ".py",
   "mimetype": "text/x-python",
   "name": "python",
   "nbconvert_exporter": "python",
   "pygments_lexer": "ipython3",
   "version": "3.12.7"
  }
 },
 "nbformat": 4,
 "nbformat_minor": 2
}
